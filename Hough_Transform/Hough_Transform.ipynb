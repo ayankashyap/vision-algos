{
 "cells": [
  {
   "cell_type": "code",
   "execution_count": 6,
   "id": "virgin-gallery",
   "metadata": {},
   "outputs": [],
   "source": [
    "import cv2\n",
    "from scipy import ndimage\n",
    "from scipy import misc\n",
    "import numpy as np\n",
    "import math as mtugh\n",
    "import matplotlib.pyplot as plt\n",
    "import matplotlib.image as mpimg\n",
    "from skimage.feature import peak_local_max\n",
    "from skimage import io\n",
    "from skimage.draw import circle, ellipse_perimeter"
   ]
  },
  {
   "cell_type": "code",
   "execution_count": 22,
   "id": "interior-demand",
   "metadata": {},
   "outputs": [
    {
     "data": {
      "image/png": "[encoded data removed]",
      "text/plain": [
       "<Figure size 432x288 with 1 Axes>"
      ]
     },
     "metadata": {
      "needs_background": "light"
     },
     "output_type": "display_data"
    }
   ],
   "source": [
    "image = cv2.imread('./ps1-input0.png')\n",
    "ps1_input0_edges = cv2.Canny(image, 100, 200, 1, 7, True) \n",
    "\n",
    "plt.imshow(ps1_input0_edges, cmap=\"gray\")\n",
    "plt.show()"
   ]
  },
  {
   "cell_type": "code",
   "execution_count": 32,
   "id": "trying-memory",
   "metadata": {},
   "outputs": [
    {
     "name": "stdout",
     "output_type": "stream",
     "text": [
      "[0 0 0 1 1 1 2 2 2] [0 1 2 0 1 2 0 1 2]\n",
      "0 0\n",
      "0 1\n",
      "0 2\n",
      "1 0\n",
      "1 1\n",
      "1 2\n",
      "2 0\n",
      "2 1\n",
      "2 2\n"
     ]
    }
   ],
   "source": [
    "x_indices, y_indices  = np.nonzero(np.ones([3,3]))\n",
    "print(x_indices, y_indices)\n",
    "for (x,y) in zip(x_indices, y_indices):\n",
    "    print(x,y)"
   ]
  },
  {
   "cell_type": "code",
   "execution_count": 57,
   "id": "flush-bidder",
   "metadata": {},
   "outputs": [],
   "source": [
    "def hough(image):\n",
    "    edges = cv2.Canny(image, 100,200,1,7,True)\n",
    "    x_ind, y_ind = np.nonzero(edges)\n",
    "    imW = edges.shape[0]\n",
    "    imH = edges.shape[1]\n",
    "    diag_len = np.ceil(np.sqrt(imW*imW + imH*imH))\n",
    "    rho_range = int(2*diag_len)\n",
    "    accumulator = np.zeros([rho_range,180])\n",
    "    \n",
    "    for (x,y) in zip(x_ind, y_ind):\n",
    "        for theta in range(0,180):\n",
    "            rho = int(np.round(x * np.cos(np.deg2rad(theta)) + y * np.sin(np.deg2rad(theta))) + diag_len)\n",
    "            accumulator[rho,theta] += 1\n",
    "    \n",
    "    return accumulator\n",
    "\n",
    "hough_accu = hough(image)\n",
    "    "
   ]
  },
  {
   "cell_type": "code",
   "execution_count": 58,
   "id": "physical-accreditation",
   "metadata": {},
   "outputs": [
    {
     "data": {
      "text/plain": [
       "<matplotlib.image.AxesImage at 0x7fbc2afd15e0>"
      ]
     },
     "execution_count": 58,
     "metadata": {},
     "output_type": "execute_result"
    },
    {
     "data": {
      "image/png": "[encoded data removed]",
      "text/plain": [
       "<Figure size 432x288 with 1 Axes>"
      ]
     },
     "metadata": {
      "needs_background": "light"
     },
     "output_type": "display_data"
    }
   ],
   "source": [
    "plt.imshow(hough_accu, cmap='gray')"
   ]
  },
  {
   "cell_type": "code",
   "execution_count": 59,
   "id": "noted-amplifier",
   "metadata": {},
   "outputs": [
    {
     "data": {
      "image/png": "[encoded data removed]",
      "text/plain": [
       "<Figure size 432x288 with 1 Axes>"
      ]
     },
     "metadata": {
      "needs_background": "light"
     },
     "output_type": "display_data"
    }
   ],
   "source": [
    "def peak_finding(hough_accu, min_distance = 45, max_peaks = 6, title ='Hough Transform', path = './trash.png'):\n",
    "\n",
    "    coordinates = peak_local_max(hough_accu, min_distance=min_distance,\n",
    "                                 exclude_border = False, num_peaks =max_peaks)\n",
    "    loca_maxs_rho = coordinates[:, 0]\n",
    "    loca_maxs_theta = coordinates[:, 1]\n",
    "    plt.imshow(hough_accu, cmap='gray',aspect='auto')\n",
    "    plt.title(title)\n",
    "\n",
    "    # Annotate local maximum\n",
    "    for i in range(len(loca_maxs_rho)):\n",
    "        plt.annotate('X',xy=(loca_maxs_theta[i],loca_maxs_rho[i]), arrowprops=dict(facecolor='yellow', shrink=0.05),)\n",
    "    plt.savefig(path)\n",
    "    plt.show()\n",
    "    return loca_maxs_rho, loca_maxs_theta\n",
    "\n",
    "loca_maxs_rho, loca_maxs_theta = peak_finding(hough_accu, max_peaks=50, title='Hough Transform of input0', path = './output.png')"
   ]
  },
  {
   "cell_type": "code",
   "execution_count": 60,
   "id": "simplified-fiber",
   "metadata": {},
   "outputs": [],
   "source": [
    "\n",
    "def draw_line(image, loca_maxs_theta, loca_maxs_rho, rgb = (0,255,0)):\n",
    "    image_copy = image.copy()\n",
    "    width = image_copy.shape[1]\n",
    "    height = image_copy.shape[0]\n",
    "    diag_len = np.ceil(np.sqrt(width * width + height * height)) \n",
    "    for j in range(len(loca_maxs_rho)):\n",
    "        rho = loca_maxs_rho[j] - diag_len\n",
    "        theta = loca_maxs_theta[j]\n",
    "        a = np.cos(np.deg2rad(theta))\n",
    "        b = np.sin(np.deg2rad(theta))\n",
    "        x1=int(a*rho - diag_len*b) \n",
    "        y1=int(b*rho + diag_len*a)\n",
    "        x2=int(a*rho + diag_len*b)\n",
    "        y2=int(b*rho - diag_len*a)\n",
    "        #print(x1,y1,x2,y2)\n",
    "        cv2.line(image_copy, (x1,y1),(x2,y2), rgb, 3) # green line\n",
    "        #print('Line {} | rho = {} theta = {}'.format(j,loca_maxs_rho[j], loca_maxs_theta[j]))\n",
    "        plt.imshow(image_copy)\n",
    "        plt.title('Detected Line')\n",
    "\n",
    "    plt.show()\n",
    "    return image_copy"
   ]
  },
  {
   "cell_type": "code",
   "execution_count": 61,
   "id": "exotic-mountain",
   "metadata": {},
   "outputs": [
    {
     "data": {
      "image/png": "[encoded data removed]",
      "text/plain": [
       "<Figure size 432x288 with 1 Axes>"
      ]
     },
     "metadata": {
      "needs_background": "light"
     },
     "output_type": "display_data"
    },
    {
     "data": {
      "text/plain": [
       "array([[[128, 128, 128],\n",
       "        [128, 128, 128],\n",
       "        [128, 128, 128],\n",
       "        ...,\n",
       "        [128, 128, 128],\n",
       "        [128, 128, 128],\n",
       "        [128, 128, 128]],\n",
       "\n",
       "       [[128, 128, 128],\n",
       "        [128, 128, 128],\n",
       "        [128, 128, 128],\n",
       "        ...,\n",
       "        [128, 128, 128],\n",
       "        [128, 128, 128],\n",
       "        [128, 128, 128]],\n",
       "\n",
       "       [[128, 128, 128],\n",
       "        [128, 128, 128],\n",
       "        [128, 128, 128],\n",
       "        ...,\n",
       "        [128, 128, 128],\n",
       "        [128, 128, 128],\n",
       "        [128, 128, 128]],\n",
       "\n",
       "       ...,\n",
       "\n",
       "       [[128, 128, 128],\n",
       "        [128, 128, 128],\n",
       "        [128, 128, 128],\n",
       "        ...,\n",
       "        [128, 128, 128],\n",
       "        [128, 128, 128],\n",
       "        [128, 128, 128]],\n",
       "\n",
       "       [[128, 128, 128],\n",
       "        [128, 128, 128],\n",
       "        [128, 128, 128],\n",
       "        ...,\n",
       "        [128, 128, 128],\n",
       "        [128, 128, 128],\n",
       "        [128, 128, 128]],\n",
       "\n",
       "       [[128, 128, 128],\n",
       "        [128, 128, 128],\n",
       "        [128, 128, 128],\n",
       "        ...,\n",
       "        [128, 128, 128],\n",
       "        [128, 128, 128],\n",
       "        [128, 128, 128]]], dtype=uint8)"
      ]
     },
     "execution_count": 61,
     "metadata": {},
     "output_type": "execute_result"
    }
   ],
   "source": [
    "draw_line(image, loca_maxs_theta, loca_maxs_rho)"
   ]
  },
  {
   "cell_type": "code",
   "execution_count": null,
   "id": "conceptual-blanket",
   "metadata": {},
   "outputs": [],
   "source": []
  }
 ],
 "metadata": {
  "kernelspec": {
   "display_name": "Python 3",
   "language": "python",
   "name": "python3"
  },
  "language_info": {
   "codemirror_mode": {
    "name": "ipython",
    "version": 3
   },
   "file_extension": ".py",
   "mimetype": "text/x-python",
   "name": "python",
   "nbconvert_exporter": "python",
   "pygments_lexer": "ipython3",
   "version": "3.8.5"
  }
 },
 "nbformat": 4,
 "nbformat_minor": 5
}
